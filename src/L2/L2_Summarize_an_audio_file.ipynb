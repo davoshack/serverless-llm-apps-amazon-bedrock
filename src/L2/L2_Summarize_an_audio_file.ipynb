{
 "cells": [
  {
   "cell_type": "markdown",
   "id": "924eaf9d",
   "metadata": {},
   "source": [
    "# Lesson 2: Summarize an audio file"
   ]
  },
  {
   "cell_type": "markdown",
   "id": "5fb28d8e",
   "metadata": {},
   "source": [
    "### Import all needed packages"
   ]
  },
  {
   "cell_type": "code",
   "execution_count": null,
   "id": "3964fd2a",
   "metadata": {},
   "outputs": [],
   "source": [
    "import os\n",
    "from IPython.display import Audio\n",
    "import boto3\n",
    "import uuid\n",
    "import time\n",
    "import json\n",
    "from jinja2 import Template"
   ]
  },
  {
   "cell_type": "markdown",
   "id": "c77bf609",
   "metadata": {},
   "source": [
    "### Let's start with transcribing an audio file"
   ]
  },
  {
   "cell_type": "code",
   "execution_count": null,
   "id": "e5db99d8",
   "metadata": {},
   "outputs": [],
   "source": [
    "audio = Audio(filename=\"../resources/dialog.mp3\")\n",
    "display(audio)"
   ]
  },
  {
   "cell_type": "code",
   "execution_count": null,
   "id": "72f6529d",
   "metadata": {},
   "outputs": [],
   "source": [
    "s3_client = boto3.client('s3', region_name='us-west-2')"
   ]
  },
  {
   "cell_type": "code",
   "execution_count": null,
   "id": "b0aefd39",
   "metadata": {},
   "outputs": [],
   "source": [
    "bucket_name = os.environ['BucketName']"
   ]
  },
  {
   "cell_type": "code",
   "execution_count": null,
   "id": "8bcd1e44",
   "metadata": {},
   "outputs": [],
   "source": [
    "file_name = 'dialog.mp3'"
   ]
  },
  {
   "cell_type": "code",
   "execution_count": null,
   "id": "a079d5d2",
   "metadata": {},
   "outputs": [],
   "source": [
    "s3_client.upload_file(file_name, bucket_name, file_name)"
   ]
  },
  {
   "cell_type": "code",
   "execution_count": null,
   "id": "3c0aa272",
   "metadata": {},
   "outputs": [],
   "source": [
    "transcribe_client = boto3.client('transcribe', region_name='us-west-2')"
   ]
  },
  {
   "cell_type": "code",
   "execution_count": null,
   "id": "3c8f6b11",
   "metadata": {},
   "outputs": [],
   "source": [
    "job_name = 'transcription-job-' + str(uuid.uuid4())"
   ]
  },
  {
   "cell_type": "code",
   "execution_count": null,
   "id": "3803d239",
   "metadata": {},
   "outputs": [],
   "source": [
    "job_name"
   ]
  },
  {
   "cell_type": "code",
   "execution_count": null,
   "id": "13794fb2",
   "metadata": {},
   "outputs": [],
   "source": [
    "response = transcribe_client.start_transcription_job(\n",
    "    TranscriptionJobName=job_name,\n",
    "    Media={'MediaFileUri': f's3://{bucket_name}/{file_name}'},\n",
    "    MediaFormat='mp3',\n",
    "    LanguageCode='en-US',\n",
    "    OutputBucketName=bucket_name,\n",
    "    Settings={\n",
    "        'ShowSpeakerLabels': True,\n",
    "        'MaxSpeakerLabels': 2\n",
    "    }\n",
    ")"
   ]
  },
  {
   "cell_type": "code",
   "execution_count": null,
   "id": "b9b68a6e",
   "metadata": {},
   "outputs": [],
   "source": [
    "while True:\n",
    "    status = transcribe_client.get_transcription_job(TranscriptionJobName=job_name)\n",
    "    if status['TranscriptionJob']['TranscriptionJobStatus'] in ['COMPLETED', 'FAILED']:\n",
    "        break\n",
    "    time.sleep(2)\n",
    "print(status['TranscriptionJob']['TranscriptionJobStatus'])"
   ]
  },
  {
   "cell_type": "code",
   "execution_count": null,
   "id": "1afc303c",
   "metadata": {},
   "outputs": [],
   "source": [
    "if status['TranscriptionJob']['TranscriptionJobStatus'] == 'COMPLETED':\n",
    "    \n",
    "    # Load the transcript from S3.\n",
    "    transcript_key = f\"{job_name}.json\"\n",
    "    transcript_obj = s3_client.get_object(Bucket=bucket_name, Key=transcript_key)\n",
    "    transcript_text = transcript_obj['Body'].read().decode('utf-8')\n",
    "    transcript_json = json.loads(transcript_text)\n",
    "    \n",
    "    output_text = \"\"\n",
    "    current_speaker = None\n",
    "    \n",
    "    items = transcript_json['results']['items']\n",
    "    \n",
    "    for item in items:\n",
    "        \n",
    "        speaker_label = item.get('speaker_label', None)\n",
    "        content = item['alternatives'][0]['content']\n",
    "        \n",
    "        # Start the line with the speaker label:\n",
    "        if speaker_label is not None and speaker_label != current_speaker:\n",
    "            current_speaker = speaker_label\n",
    "            output_text += f\"\\n{current_speaker}: \"\n",
    "            \n",
    "        # Add the speech content:\n",
    "        if item['type'] == 'punctuation':\n",
    "            output_text = output_text.rstrip()\n",
    "            \n",
    "        output_text += f\"{content} \"\n",
    "        \n",
    "    # Save the transcript to a text file\n",
    "    with open(f'{job_name}.txt', 'w') as f:\n",
    "        f.write(output_text)"
   ]
  }
 ],
 "metadata": {
  "kernelspec": {
   "display_name": "serverless-llm-apps-amazon-bedrock",
   "language": "python",
   "name": "python3"
  },
  "language_info": {
   "codemirror_mode": {
    "name": "ipython",
    "version": 3
   },
   "file_extension": ".py",
   "mimetype": "text/x-python",
   "name": "python",
   "nbconvert_exporter": "python",
   "pygments_lexer": "ipython3",
   "version": "3.12.0"
  }
 },
 "nbformat": 4,
 "nbformat_minor": 5
}
