{
 "cells": [
  {
   "cell_type": "markdown",
   "id": "924eaf9d",
   "metadata": {},
   "source": [
    "# Lesson 2: Summarize an audio file"
   ]
  },
  {
   "cell_type": "markdown",
   "id": "5fb28d8e",
   "metadata": {},
   "source": [
    "### Import all needed packages"
   ]
  },
  {
   "cell_type": "code",
   "execution_count": 2,
   "id": "3964fd2a",
   "metadata": {},
   "outputs": [],
   "source": [
    "import os\n",
    "from IPython.display import Audio\n",
    "import boto3\n",
    "import uuid\n",
    "import time\n",
    "import json\n",
    "from jinja2 import Template"
   ]
  }
 ],
 "metadata": {
  "kernelspec": {
   "display_name": "serverless-llm-apps-amazon-bedrock",
   "language": "python",
   "name": "python3"
  },
  "language_info": {
   "codemirror_mode": {
    "name": "ipython",
    "version": 3
   },
   "file_extension": ".py",
   "mimetype": "text/x-python",
   "name": "python",
   "nbconvert_exporter": "python",
   "pygments_lexer": "ipython3",
   "version": "3.12.0"
  }
 },
 "nbformat": 4,
 "nbformat_minor": 5
}
