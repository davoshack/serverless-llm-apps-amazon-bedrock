{
 "cells": [
  {
   "cell_type": "markdown",
   "id": "e818fdd5",
   "metadata": {},
   "source": [
    "# Lesson 5: Event-driven generation"
   ]
  },
  {
   "cell_type": "markdown",
   "id": "16f7c82f",
   "metadata": {},
   "source": [
    "### Import all needed packages"
   ]
  },
  {
   "cell_type": "code",
   "execution_count": null,
   "id": "1e077211",
   "metadata": {},
   "outputs": [],
   "source": [
    "import boto3, os\n",
    "\n",
    "from helpers.Lambda_Helper import Lambda_Helper\n",
    "from helpers.S3_Helper import S3_Helper\n",
    "\n",
    "lambda_helper = Lambda_Helper()\n",
    "s3_helper = S3_Helper()\n",
    "\n",
    "bucket_name_text = os.environ['LEARNERS3BUCKETNAMETEXT']\n",
    "bucket_name_audio = os.environ['LEARNERS3BUCKETNAMEAUDIO']"
   ]
  }
 ],
 "metadata": {
  "kernelspec": {
   "display_name": "serverless-llm-apps-amazon-bedrock",
   "language": "python",
   "name": "python3"
  },
  "language_info": {
   "name": "python",
   "version": "3.12.0"
  }
 },
 "nbformat": 4,
 "nbformat_minor": 5
}
