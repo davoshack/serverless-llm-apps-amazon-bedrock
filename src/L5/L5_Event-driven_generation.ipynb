{
 "cells": [
  {
   "cell_type": "markdown",
   "id": "e818fdd5",
   "metadata": {},
   "source": [
    "# Lesson 5: Event-driven generation"
   ]
  },
  {
   "cell_type": "markdown",
   "id": "16f7c82f",
   "metadata": {},
   "source": [
    "### Import all needed packages"
   ]
  },
  {
   "cell_type": "code",
   "execution_count": null,
   "id": "1e077211",
   "metadata": {},
   "outputs": [],
   "source": [
    "import boto3, os\n",
    "\n",
    "from helpers.Lambda_Helper import Lambda_Helper\n",
    "from helpers.S3_Helper import S3_Helper\n",
    "\n",
    "lambda_helper = Lambda_Helper()\n",
    "s3_helper = S3_Helper()\n",
    "\n",
    "bucket_name_text = os.environ['LEARNERS3BUCKETNAMETEXT']\n",
    "bucket_name_audio = os.environ['LEARNERS3BUCKETNAMEAUDIO']"
   ]
  },
  {
   "cell_type": "markdown",
   "id": "e7b89d73",
   "metadata": {},
   "source": [
    "### Deploy your lambda function"
   ]
  },
  {
   "cell_type": "code",
   "execution_count": null,
   "id": "138a3fde",
   "metadata": {},
   "outputs": [],
   "source": [
    "%%writefile lambda_function.py\n",
    "\n",
    "#############################################################\n",
    "#\n",
    "# This Lambda function is written to a file by the notebook \n",
    "# It does not run in the notebook!\n",
    "#\n",
    "#############################################################\n",
    "\n",
    "import json\n",
    "import boto3\n",
    "import uuid\n",
    "import os\n",
    "\n",
    "s3_client = boto3.client('s3')\n",
    "transcribe_client = boto3.client('transcribe', region_name='us-west-2')\n",
    "\n",
    "def lambda_handler(event, context):\n",
    "    # Extract the bucket name and key from the incoming event\n",
    "    bucket = event['Records'][0]['s3']['bucket']['name']\n",
    "    key = event['Records'][0]['s3']['object']['key']\n",
    "\n",
    "    # One of a few different checks to ensure we don't end up in a recursive loop.\n",
    "    if key != \"dialog.mp3\": \n",
    "        print(\"This demo only works with dialog.mp3.\")\n",
    "        return\n",
    "\n",
    "    try:\n",
    "        \n",
    "        job_name = 'transcription-job-' + str(uuid.uuid4()) # Needs to be a unique name\n",
    "\n",
    "        response = transcribe_client.start_transcription_job(\n",
    "            TranscriptionJobName=job_name,\n",
    "            Media={'MediaFileUri': f's3://{bucket}/{key}'},\n",
    "            MediaFormat='mp3',\n",
    "            LanguageCode='en-US',\n",
    "            OutputBucketName= os.environ['S3BUCKETNAMETEXT'],  # specify the output bucket\n",
    "            OutputKey=f'{job_name}-transcript.json',\n",
    "            Settings={\n",
    "                'ShowSpeakerLabels': True,\n",
    "                'MaxSpeakerLabels': 2\n",
    "            }\n",
    "        )\n",
    "        \n",
    "    except Exception as e:\n",
    "        print(f\"Error occurred: {e}\")\n",
    "        return {\n",
    "            'statusCode': 500,\n",
    "            'body': json.dumps(f\"Error occurred: {e}\")\n",
    "        }\n",
    "\n",
    "    return {\n",
    "        'statusCode': 200,\n",
    "        'body': json.dumps(f\"Submitted transcription job for {key} from bucket {bucket}.\")\n",
    "    }"
   ]
  },
  {
   "cell_type": "code",
   "execution_count": null,
   "id": "872a508c",
   "metadata": {},
   "outputs": [],
   "source": [
    "lambda_helper.lambda_environ_variables = {'S3BUCKETNAMETEXT' : bucket_name_text}\n",
    "lambda_helper.deploy_function([\"lambda_function.py\"], function_name=\"LambdaFunctionTranscribe\")"
   ]
  },
  {
   "cell_type": "code",
   "execution_count": null,
   "id": "b08635f8",
   "metadata": {},
   "outputs": [],
   "source": [
    "lambda_helper.filter_rules_suffix = \"mp3\"\n",
    "lambda_helper.add_lambda_trigger(bucket_name_audio, function_name=\"LambdaFunctionTranscribe\")"
   ]
  },
  {
   "cell_type": "code",
   "execution_count": null,
   "id": "0120f1ac",
   "metadata": {},
   "outputs": [],
   "source": [
    "s3_helper.upload_file(bucket_name_audio, '../resources/dialog.mp3')"
   ]
  },
  {
   "cell_type": "code",
   "execution_count": null,
   "id": "6d9710fc",
   "metadata": {},
   "outputs": [],
   "source": [
    "s3_helper.list_objects(bucket_name_audio)"
   ]
  },
  {
   "cell_type": "markdown",
   "id": "fe228a10",
   "metadata": {},
   "source": [
    "#### Restart kernel if needed.\n",
    "- If you run the code fairly quickly from start to finish, it's possible that the following code cell `s3_helper.list_objects(bucket_name_text)` will give a \"Not Found\" error.  \n",
    "- If waiting a few seconds (10 seconds) and re-running this cell does not resolve the error, then you can restart the kernel of the jupyter notebook.\n",
    "- Go to menu->Kernel->Restart Kernel.\n",
    "- Then run the code cells from the start of the notebook, waiting 2 seconds or so for each code cell to finish executing."
   ]
  },
  {
   "cell_type": "code",
   "execution_count": null,
   "id": "04a0cb75",
   "metadata": {},
   "outputs": [],
   "source": [
    "s3_helper.list_objects(bucket_name_text)"
   ]
  }
 ],
 "metadata": {
  "kernelspec": {
   "display_name": "serverless-llm-apps-amazon-bedrock",
   "language": "python",
   "name": "python3"
  },
  "language_info": {
   "name": "python",
   "version": "3.12.0"
  }
 },
 "nbformat": 4,
 "nbformat_minor": 5
}
