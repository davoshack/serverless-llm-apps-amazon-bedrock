{
 "cells": [
  {
   "cell_type": "markdown",
   "id": "a5017c0d",
   "metadata": {},
   "source": [
    "# Lesson 1 - Your first generations with Amazon Bedrock"
   ]
  },
  {
   "cell_type": "markdown",
   "id": "3dc26f2d",
   "metadata": {},
   "source": [
    "Welcome to Lesson 1. \n",
    "\n",
    "You'll start with using Amazon Bedrock to prompt a model and customize how it generates its response.\n",
    "\n",
    "**Note:** To access the `requirements.txt` file, go to `File` and click on `Open`. Here, you will also find all helpers functions and datasets used in each lesson.\n",
    " \n",
    "I hope you enjoy this course!"
   ]
  },
  {
   "cell_type": "markdown",
   "id": "08413fdc",
   "metadata": {},
   "source": [
    "### Import all needed packages"
   ]
  },
  {
   "cell_type": "code",
   "execution_count": null,
   "id": "be184c95",
   "metadata": {},
   "outputs": [],
   "source": [
    "import boto3\n",
    "import json\n",
    "\n",
    "from ai_custom_utils.helper import print_response"
   ]
  },
  {
   "cell_type": "markdown",
   "id": "392f457d",
   "metadata": {},
   "source": [
    "### Setup the Bedrock runtime"
   ]
  },
  {
   "cell_type": "code",
   "execution_count": 12,
   "id": "660923c5",
   "metadata": {},
   "outputs": [],
   "source": [
    "bedrock_runtime = boto3.client('bedrock-runtime', region_name='us-west-2')"
   ]
  },
  {
   "cell_type": "code",
   "execution_count": 13,
   "id": "f762aa83",
   "metadata": {},
   "outputs": [],
   "source": [
    "prompt = \"Write a one sentence summary of Las Vegas.\""
   ]
  },
  {
   "cell_type": "code",
   "execution_count": 26,
   "id": "2ace66f9",
   "metadata": {},
   "outputs": [],
   "source": [
    "kwargs = {\n",
    "    \"modelId\": \"amazon.titan-text-lite-v1\",\n",
    "    \"contentType\": \"application/json\",\n",
    "    \"accept\": \"*/*\",\n",
    "    \"body\": json.dumps(\n",
    "        {\n",
    "            \"inputText\": prompt\n",
    "        }\n",
    "    )\n",
    "}"
   ]
  },
  {
   "cell_type": "code",
   "execution_count": 27,
   "id": "ffa7e610",
   "metadata": {},
   "outputs": [],
   "source": [
    "response = bedrock_runtime.invoke_model(**kwargs)"
   ]
  },
  {
   "cell_type": "code",
   "execution_count": 28,
   "id": "6d907547",
   "metadata": {},
   "outputs": [
    {
     "data": {
      "text/plain": [
       "{'ResponseMetadata': {'RequestId': '63df1526-e096-4629-b978-792ded25bc7a',\n",
       "  'HTTPStatusCode': 200,\n",
       "  'HTTPHeaders': {'date': 'Tue, 22 Apr 2025 04:02:00 GMT',\n",
       "   'content-type': 'application/json',\n",
       "   'content-length': '166',\n",
       "   'connection': 'keep-alive',\n",
       "   'x-amzn-requestid': '63df1526-e096-4629-b978-792ded25bc7a',\n",
       "   'x-amzn-bedrock-invocation-latency': '727',\n",
       "   'x-amzn-bedrock-output-token-count': '15',\n",
       "   'x-amzn-bedrock-input-token-count': '9'},\n",
       "  'RetryAttempts': 0},\n",
       " 'contentType': 'application/json',\n",
       " 'body': <botocore.response.StreamingBody at 0x116c7e200>}"
      ]
     },
     "execution_count": 28,
     "metadata": {},
     "output_type": "execute_result"
    }
   ],
   "source": [
    "response"
   ]
  },
  {
   "cell_type": "code",
   "execution_count": 29,
   "id": "04606854",
   "metadata": {},
   "outputs": [],
   "source": [
    "response_body = json.loads(response.get('body').read())"
   ]
  },
  {
   "cell_type": "code",
   "execution_count": 30,
   "id": "4896d4b1",
   "metadata": {},
   "outputs": [
    {
     "name": "stdout",
     "output_type": "stream",
     "text": [
      "{\n",
      "    \"inputTextTokenCount\": 9,\n",
      "    \"results\": [\n",
      "        {\n",
      "            \"tokenCount\": 15,\n",
      "            \"outputText\": \"\\nLas Vegas is known for its casinos, nightlife, and entertainment.\",\n",
      "            \"completionReason\": \"FINISH\"\n",
      "        }\n",
      "    ]\n",
      "}\n"
     ]
    }
   ],
   "source": [
    "print(json.dumps(response_body, indent=4))"
   ]
  },
  {
   "cell_type": "code",
   "execution_count": 31,
   "id": "16fecbd4",
   "metadata": {},
   "outputs": [
    {
     "name": "stdout",
     "output_type": "stream",
     "text": [
      "\n",
      "Las Vegas is known for its casinos, nightlife, and entertainment.\n"
     ]
    }
   ],
   "source": [
    "print(response_body['results'][0]['outputText'])"
   ]
  },
  {
   "cell_type": "markdown",
   "id": "57f9191a",
   "metadata": {},
   "source": [
    "### Generation Configuration"
   ]
  },
  {
   "cell_type": "code",
   "execution_count": 32,
   "id": "488c56b7",
   "metadata": {},
   "outputs": [],
   "source": [
    "prompt = \"Write a summary of Las Vegas.\""
   ]
  },
  {
   "cell_type": "code",
   "execution_count": 33,
   "id": "96f5a5cd",
   "metadata": {},
   "outputs": [],
   "source": [
    "kwargs = {\n",
    "    \"modelId\": \"amazon.titan-text-express-v1\",\n",
    "    \"contentType\": \"application/json\",\n",
    "    \"accept\": \"*/*\",\n",
    "    \"body\" : json.dumps(\n",
    "        {\n",
    "            \"inputText\": prompt,\n",
    "            \"textGenerationConfig\": {\n",
    "                \"maxTokenCount\": 100,\n",
    "                \"temperature\": 0.7,\n",
    "                \"topP\": 0.9\n",
    "            }\n",
    "        }\n",
    "    )\n",
    "}"
   ]
  },
  {
   "cell_type": "code",
   "execution_count": 36,
   "id": "d796a912",
   "metadata": {},
   "outputs": [
    {
     "name": "stdout",
     "output_type": "stream",
     "text": [
      "\n",
      "Las Vegas is a popular tourist destination known for its gambling, entertainment, and nightlife. It is located in the Mojave Desert of Nevada and is famous for its extravagant casino resorts, which offer a variety of gaming options, including slot machines, table games, and poker. Las Vegas is also known for its iconic landmarks, including the Bellagio fountains, the Eiffel Tower, and the Stratosphere.\n",
      "\n",
      "Las Vegas has a rich history, dating back to the 19th century\n"
     ]
    }
   ],
   "source": [
    "response = bedrock_runtime.invoke_model(**kwargs)\n",
    "response_body = json.loads(response.get('body').read())\n",
    "\n",
    "generation = response_body['results'][0]['outputText']\n",
    "print(generation)"
   ]
  },
  {
   "cell_type": "code",
   "execution_count": 37,
   "id": "46c1f5c1",
   "metadata": {},
   "outputs": [
    {
     "name": "stdout",
     "output_type": "stream",
     "text": [
      "{\n",
      "    \"inputTextTokenCount\": 7,\n",
      "    \"results\": [\n",
      "        {\n",
      "            \"tokenCount\": 100,\n",
      "            \"outputText\": \"\\nLas Vegas is a popular tourist destination known for its gambling, entertainment, and nightlife. It is located in the Mojave Desert of Nevada and is famous for its extravagant casino resorts, which offer a variety of gaming options, including slot machines, table games, and poker. Las Vegas is also known for its iconic landmarks, including the Bellagio fountains, the Eiffel Tower, and the Stratosphere.\\n\\nLas Vegas has a rich history, dating back to the 19th century\",\n",
      "            \"completionReason\": \"LENGTH\"\n",
      "        }\n",
      "    ]\n",
      "}\n"
     ]
    }
   ],
   "source": [
    "print(json.dumps(response_body, indent=4))"
   ]
  },
  {
   "cell_type": "code",
   "execution_count": 38,
   "id": "9b5bc249",
   "metadata": {},
   "outputs": [],
   "source": [
    "kwargs = {\n",
    "    \"modelId\": \"amazon.titan-text-express-v1\",\n",
    "    \"contentType\": \"application/json\",\n",
    "    \"accept\": \"*/*\",\n",
    "    \"body\" : json.dumps(\n",
    "        {\n",
    "            \"inputText\": prompt,\n",
    "            \"textGenerationConfig\": {\n",
    "                \"maxTokenCount\": 500,\n",
    "                \"temperature\": 0.7,\n",
    "                \"topP\": 0.9\n",
    "            }\n",
    "        }\n",
    "    )\n",
    "}"
   ]
  },
  {
   "cell_type": "code",
   "execution_count": 39,
   "id": "7291add4",
   "metadata": {},
   "outputs": [
    {
     "name": "stdout",
     "output_type": "stream",
     "text": [
      "\n",
      "Las Vegas, also known as Sin City, is a city in Nevada, United States, renowned for its vibrant nightlife, casinos, and entertainment options. It is located in the Mojave Desert and is known for its hot and dry climate. Las Vegas is a popular destination for tourists from around the world, attracting visitors with its luxurious hotels, casinos, shows, and nightlife.\n",
      "\n",
      "The city's history dates back to the 1800s when it was first settled by European Americans. It was later transformed into a major tourist destination in the 1930s with the construction of the Hoover Dam and the development of the Las Vegas Strip. The Strip is a 4.2-mile-long stretch of land that is home to many of the city's largest and most famous casinos, hotels, and resorts.\n",
      "\n",
      "Las Vegas is known for its glitz and glamour, with many of its casinos featuring extravagant designs, high-end restaurants, and live entertainment. The city is also home to many famous landmarks, including the Bellagio Fountain, the Eiffel Tower, and the Luxor Pyramid.\n",
      "\n",
      "Las Vegas is a popular destination for couples, families, and business travelers alike. It offers a wide range of activities and attractions, including gambling, shopping, dining, and entertainment. The city's casinos offer a variety of games, including blackjack, roulette, craps, and slot machines, while its shopping malls and outlets offer a wide range of merchandise.\n",
      "\n",
      "Las Vegas is also known for its nightlife. The city is home to many nightclubs, bars, and lounges, including the famous Caesars Palace and the Bellagio. The city's nightlife is known for its high-energy atmosphere and its celebrity sightings.\n",
      "\n",
      "Despite its reputation as a party town, Las Vegas is also a family-friendly destination. The city offers a wide range of family-friendly attractions, including the Bellagio Conservatory and Botanical Gardens, the Mirage Volcano, and the Shark Reef at the Mandalay Bay Resort.\n",
      "\n",
      "Las Vegas is also known for its environmental issues. The city is located in a desert climate, which can be harsh on the environment. The city's casinos and hotels consume a significant amount of water and energy, and the city has implemented several measures to reduce its environmental impact.\n",
      "\n",
      "Las Vegas is a popular destination for tourists from around the world. It offers a wide range of activities and attractions, including gambling, shopping, dining, and entertainment.\n"
     ]
    }
   ],
   "source": [
    "response = bedrock_runtime.invoke_model(**kwargs)\n",
    "response_body = json.loads(response.get('body').read())\n",
    "\n",
    "generation = response_body['results'][0]['outputText']\n",
    "print(generation)"
   ]
  },
  {
   "cell_type": "code",
   "execution_count": 40,
   "id": "dab2e038",
   "metadata": {},
   "outputs": [
    {
     "name": "stdout",
     "output_type": "stream",
     "text": [
      "{\n",
      "    \"inputTextTokenCount\": 7,\n",
      "    \"results\": [\n",
      "        {\n",
      "            \"tokenCount\": 500,\n",
      "            \"outputText\": \"\\nLas Vegas, also known as Sin City, is a city in Nevada, United States, renowned for its vibrant nightlife, casinos, and entertainment options. It is located in the Mojave Desert and is known for its hot and dry climate. Las Vegas is a popular destination for tourists from around the world, attracting visitors with its luxurious hotels, casinos, shows, and nightlife.\\n\\nThe city's history dates back to the 1800s when it was first settled by European Americans. It was later transformed into a major tourist destination in the 1930s with the construction of the Hoover Dam and the development of the Las Vegas Strip. The Strip is a 4.2-mile-long stretch of land that is home to many of the city's largest and most famous casinos, hotels, and resorts.\\n\\nLas Vegas is known for its glitz and glamour, with many of its casinos featuring extravagant designs, high-end restaurants, and live entertainment. The city is also home to many famous landmarks, including the Bellagio Fountain, the Eiffel Tower, and the Luxor Pyramid.\\n\\nLas Vegas is a popular destination for couples, families, and business travelers alike. It offers a wide range of activities and attractions, including gambling, shopping, dining, and entertainment. The city's casinos offer a variety of games, including blackjack, roulette, craps, and slot machines, while its shopping malls and outlets offer a wide range of merchandise.\\n\\nLas Vegas is also known for its nightlife. The city is home to many nightclubs, bars, and lounges, including the famous Caesars Palace and the Bellagio. The city's nightlife is known for its high-energy atmosphere and its celebrity sightings.\\n\\nDespite its reputation as a party town, Las Vegas is also a family-friendly destination. The city offers a wide range of family-friendly attractions, including the Bellagio Conservatory and Botanical Gardens, the Mirage Volcano, and the Shark Reef at the Mandalay Bay Resort.\\n\\nLas Vegas is also known for its environmental issues. The city is located in a desert climate, which can be harsh on the environment. The city's casinos and hotels consume a significant amount of water and energy, and the city has implemented several measures to reduce its environmental impact.\\n\\nLas Vegas is a popular destination for tourists from around the world. It offers a wide range of activities and attractions, including gambling, shopping, dining, and entertainment.\",\n",
      "            \"completionReason\": \"LENGTH\"\n",
      "        }\n",
      "    ]\n",
      "}\n"
     ]
    }
   ],
   "source": [
    "print(json.dumps(response_body, indent=4))"
   ]
  }
 ],
 "metadata": {
  "kernelspec": {
   "display_name": "serverless-llm-apps-amazon-bedrock",
   "language": "python",
   "name": "python3"
  },
  "language_info": {
   "codemirror_mode": {
    "name": "ipython",
    "version": 3
   },
   "file_extension": ".py",
   "mimetype": "text/x-python",
   "name": "python",
   "nbconvert_exporter": "python",
   "pygments_lexer": "ipython3",
   "version": "3.12.0"
  }
 },
 "nbformat": 4,
 "nbformat_minor": 5
}
