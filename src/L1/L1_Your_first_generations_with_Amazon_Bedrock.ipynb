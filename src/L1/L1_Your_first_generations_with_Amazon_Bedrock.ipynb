{
 "cells": [
  {
   "cell_type": "markdown",
   "id": "a5017c0d",
   "metadata": {},
   "source": [
    "# Lesson 1 - Your first generations with Amazon Bedrock"
   ]
  },
  {
   "cell_type": "markdown",
   "id": "3dc26f2d",
   "metadata": {},
   "source": [
    "Welcome to Lesson 1. \n",
    "\n",
    "You'll start with using Amazon Bedrock to prompt a model and customize how it generates its response.\n",
    "\n",
    "**Note:** To access the `requirements.txt` file, go to `File` and click on `Open`. Here, you will also find all helpers functions and datasets used in each lesson.\n",
    " \n",
    "I hope you enjoy this course!"
   ]
  },
  {
   "cell_type": "markdown",
   "id": "08413fdc",
   "metadata": {},
   "source": [
    "### Import all needed packages"
   ]
  },
  {
   "cell_type": "code",
   "execution_count": 11,
   "id": "be184c95",
   "metadata": {},
   "outputs": [],
   "source": [
    "import boto3\n",
    "import json"
   ]
  },
  {
   "cell_type": "markdown",
   "id": "392f457d",
   "metadata": {},
   "source": [
    "### Setup the Bedrock runtime"
   ]
  },
  {
   "cell_type": "code",
   "execution_count": 12,
   "id": "660923c5",
   "metadata": {},
   "outputs": [],
   "source": [
    "bedrock_runtime = boto3.client('bedrock-runtime', region_name='us-west-2')"
   ]
  },
  {
   "cell_type": "code",
   "execution_count": 13,
   "id": "f762aa83",
   "metadata": {},
   "outputs": [],
   "source": [
    "prompt = \"Write a one sentence summary of Las Vegas.\""
   ]
  },
  {
   "cell_type": "code",
   "execution_count": 26,
   "id": "2ace66f9",
   "metadata": {},
   "outputs": [],
   "source": [
    "kwargs = {\n",
    "    \"modelId\": \"amazon.titan-text-lite-v1\",\n",
    "    \"contentType\": \"application/json\",\n",
    "    \"accept\": \"*/*\",\n",
    "    \"body\": json.dumps(\n",
    "        {\n",
    "            \"inputText\": prompt\n",
    "        }\n",
    "    )\n",
    "}"
   ]
  },
  {
   "cell_type": "code",
   "execution_count": 27,
   "id": "ffa7e610",
   "metadata": {},
   "outputs": [],
   "source": [
    "response = bedrock_runtime.invoke_model(**kwargs)"
   ]
  },
  {
   "cell_type": "code",
   "execution_count": 28,
   "id": "6d907547",
   "metadata": {},
   "outputs": [
    {
     "data": {
      "text/plain": [
       "{'ResponseMetadata': {'RequestId': '63df1526-e096-4629-b978-792ded25bc7a',\n",
       "  'HTTPStatusCode': 200,\n",
       "  'HTTPHeaders': {'date': 'Tue, 22 Apr 2025 04:02:00 GMT',\n",
       "   'content-type': 'application/json',\n",
       "   'content-length': '166',\n",
       "   'connection': 'keep-alive',\n",
       "   'x-amzn-requestid': '63df1526-e096-4629-b978-792ded25bc7a',\n",
       "   'x-amzn-bedrock-invocation-latency': '727',\n",
       "   'x-amzn-bedrock-output-token-count': '15',\n",
       "   'x-amzn-bedrock-input-token-count': '9'},\n",
       "  'RetryAttempts': 0},\n",
       " 'contentType': 'application/json',\n",
       " 'body': <botocore.response.StreamingBody at 0x116c7e200>}"
      ]
     },
     "execution_count": 28,
     "metadata": {},
     "output_type": "execute_result"
    }
   ],
   "source": [
    "response"
   ]
  },
  {
   "cell_type": "code",
   "execution_count": 29,
   "id": "04606854",
   "metadata": {},
   "outputs": [],
   "source": [
    "response_body = json.loads(response.get('body').read())"
   ]
  },
  {
   "cell_type": "code",
   "execution_count": 30,
   "id": "4896d4b1",
   "metadata": {},
   "outputs": [
    {
     "name": "stdout",
     "output_type": "stream",
     "text": [
      "{\n",
      "    \"inputTextTokenCount\": 9,\n",
      "    \"results\": [\n",
      "        {\n",
      "            \"tokenCount\": 15,\n",
      "            \"outputText\": \"\\nLas Vegas is known for its casinos, nightlife, and entertainment.\",\n",
      "            \"completionReason\": \"FINISH\"\n",
      "        }\n",
      "    ]\n",
      "}\n"
     ]
    }
   ],
   "source": [
    "print(json.dumps(response_body, indent=4))"
   ]
  },
  {
   "cell_type": "code",
   "execution_count": 31,
   "id": "16fecbd4",
   "metadata": {},
   "outputs": [
    {
     "name": "stdout",
     "output_type": "stream",
     "text": [
      "\n",
      "Las Vegas is known for its casinos, nightlife, and entertainment.\n"
     ]
    }
   ],
   "source": [
    "print(response_body['results'][0]['outputText'])"
   ]
  }
 ],
 "metadata": {
  "kernelspec": {
   "display_name": "serverless-llm-apps-amazon-bedrock",
   "language": "python",
   "name": "python3"
  },
  "language_info": {
   "codemirror_mode": {
    "name": "ipython",
    "version": 3
   },
   "file_extension": ".py",
   "mimetype": "text/x-python",
   "name": "python",
   "nbconvert_exporter": "python",
   "pygments_lexer": "ipython3",
   "version": "3.12.0"
  }
 },
 "nbformat": 4,
 "nbformat_minor": 5
}
